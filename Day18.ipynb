{
  "nbformat": 4,
  "nbformat_minor": 0,
  "metadata": {
    "colab": {
      "provenance": [],
      "authorship_tag": "ABX9TyOn/Thlnt+GbowADBIzAx+j",
      "include_colab_link": true
    },
    "kernelspec": {
      "name": "python3",
      "display_name": "Python 3"
    },
    "language_info": {
      "name": "python"
    }
  },
  "cells": [
    {
      "cell_type": "markdown",
      "metadata": {
        "id": "view-in-github",
        "colab_type": "text"
      },
      "source": [
        "<a href=\"https://colab.research.google.com/github/sushmaasree/Assignments-LMS-/blob/main/Day18.ipynb\" target=\"_parent\"><img src=\"https://colab.research.google.com/assets/colab-badge.svg\" alt=\"Open In Colab\"/></a>"
      ]
    },
    {
      "cell_type": "code",
      "execution_count": 1,
      "metadata": {
        "colab": {
          "base_uri": "https://localhost:8080/"
        },
        "id": "PPHfPKsM9b2W",
        "outputId": "6fdba772-800f-4c56-b68e-19d215184d85"
      },
      "outputs": [
        {
          "output_type": "stream",
          "name": "stdout",
          "text": [
            "Extracted emails: ['support@example.com', 'sales@example.org']\n",
            "Webpage title: Example Domain\n"
          ]
        }
      ],
      "source": [
        "import re\n",
        "import requests\n",
        "from bs4 import BeautifulSoup\n",
        "\n",
        "# Extract emails from text\n",
        "def extract_emails(text: str) -> list:\n",
        "    email_pattern = r'[a-zA-Z0-9._%+-]+@[a-zA-Z0-9.-]+\\.[a-zA-Z]{2,}'\n",
        "    return re.findall(email_pattern, text)\n",
        "\n",
        "# Test email extraction\n",
        "test_input = \"Contact us at support@example.com and sales@example.org.\"\n",
        "print(\"Extracted emails:\", extract_emails(test_input))\n",
        "\n",
        "# Fetch and print webpage title\n",
        "def fetch_webpage_title(url: str) -> str:\n",
        "    try:\n",
        "        response = requests.get(url)\n",
        "        soup = BeautifulSoup(response.content, 'html.parser')\n",
        "        return soup.title.string.strip() if soup.title else \"No title found\"\n",
        "    except Exception as e:\n",
        "        return f\"Error: {e}\"\n",
        "\n",
        "# Test title fetching\n",
        "test_url = \"https://example.com\"\n",
        "print(\"Webpage title:\", fetch_webpage_title(test_url))\n"
      ]
    },
    {
      "cell_type": "code",
      "source": [],
      "metadata": {
        "id": "V-rHFEUb9n2p"
      },
      "execution_count": null,
      "outputs": []
    }
  ]
}