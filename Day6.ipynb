{
  "nbformat": 4,
  "nbformat_minor": 0,
  "metadata": {
    "colab": {
      "provenance": [],
      "authorship_tag": "ABX9TyMZ31bsIcX6p9kFJkS9B6OR",
      "include_colab_link": true
    },
    "kernelspec": {
      "name": "python3",
      "display_name": "Python 3"
    },
    "language_info": {
      "name": "python"
    }
  },
  "cells": [
    {
      "cell_type": "markdown",
      "metadata": {
        "id": "view-in-github",
        "colab_type": "text"
      },
      "source": [
        "<a href=\"https://colab.research.google.com/github/sushmaasree/Assignments-LMS-/blob/main/Day6.ipynb\" target=\"_parent\"><img src=\"https://colab.research.google.com/assets/colab-badge.svg\" alt=\"Open In Colab\"/></a>"
      ]
    },
    {
      "cell_type": "code",
      "execution_count": 1,
      "metadata": {
        "colab": {
          "base_uri": "https://localhost:8080/"
        },
        "id": "cw1sIKBqxGpa",
        "outputId": "d1369389-5043-4e88-8d02-9efb420016e3"
      },
      "outputs": [
        {
          "output_type": "stream",
          "name": "stderr",
          "text": [
            "[nltk_data] Downloading package stopwords to /root/nltk_data...\n",
            "[nltk_data]   Unzipping corpora/stopwords.zip.\n"
          ]
        },
        {
          "output_type": "stream",
          "name": "stdout",
          "text": [
            "Original Text: Natural Language Processing is an exciting field of Artificial Intelligence!\n",
            "Lowercase Text: natural language processing is an exciting field of artificial intelligence!\n",
            "Filtered Text (No Stopwords): natural language processing exciting field artificial intelligence !\n"
          ]
        }
      ],
      "source": [
        "import nltk\n",
        "from nltk.corpus import stopwords\n",
        "import spacy\n",
        "\n",
        "# Download NLTK stopwords (only needs to be done once)\n",
        "nltk.download('stopwords')\n",
        "\n",
        "# Sample text\n",
        "text = \"Natural Language Processing is an exciting field of Artificial Intelligence!\"\n",
        "\n",
        "# Convert text to lowercase using spaCy\n",
        "nlp = spacy.load(\"en_core_web_sm\")\n",
        "doc = nlp(text.lower())\n",
        "\n",
        "# Remove stopwords using NLTK\n",
        "stop_words = set(stopwords.words('english'))\n",
        "filtered_words = [token.text for token in doc if token.text not in stop_words]\n",
        "\n",
        "# Display results\n",
        "print(\"Original Text:\", text)\n",
        "print(\"Lowercase Text:\", text.lower())\n",
        "print(\"Filtered Text (No Stopwords):\", \" \".join(filtered_words))\n"
      ]
    },
    {
      "cell_type": "code",
      "source": [],
      "metadata": {
        "id": "KfNAGSpLxYTk"
      },
      "execution_count": null,
      "outputs": []
    }
  ]
}