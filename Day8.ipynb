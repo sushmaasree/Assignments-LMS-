{
  "nbformat": 4,
  "nbformat_minor": 0,
  "metadata": {
    "colab": {
      "provenance": [],
      "authorship_tag": "ABX9TyOR+BubzE5XMr5H1zfrQmku",
      "include_colab_link": true
    },
    "kernelspec": {
      "name": "python3",
      "display_name": "Python 3"
    },
    "language_info": {
      "name": "python"
    }
  },
  "cells": [
    {
      "cell_type": "markdown",
      "metadata": {
        "id": "view-in-github",
        "colab_type": "text"
      },
      "source": [
        "<a href=\"https://colab.research.google.com/github/sushmaasree/Assignments-LMS-/blob/main/Day8.ipynb\" target=\"_parent\"><img src=\"https://colab.research.google.com/assets/colab-badge.svg\" alt=\"Open In Colab\"/></a>"
      ]
    },
    {
      "cell_type": "code",
      "execution_count": 2,
      "metadata": {
        "colab": {
          "base_uri": "https://localhost:8080/"
        },
        "id": "mK0vaqno4WGp",
        "outputId": "28ecad1f-a023-46bf-ed45-894c7f6d595f"
      },
      "outputs": [
        {
          "output_type": "stream",
          "name": "stdout",
          "text": [
            "Sentences:\n",
            "['\\nNatural Language Processing (NLP) is a fascinating field of Artificial Intelligence.', 'It focuses on enabling machines to understand and process human languages.', 'This involves tasks such as tokenization, part-of-speech tagging, named entity recognition, and more.']\n",
            "\n",
            "Words:\n",
            "['Natural', 'Language', 'Processing', '(', 'NLP', ')', 'is', 'a', 'fascinating', 'field', 'of', 'Artificial', 'Intelligence', '.', 'It', 'focuses', 'on', 'enabling', 'machines', 'to', 'understand', 'and', 'process', 'human', 'languages', '.', 'This', 'involves', 'tasks', 'such', 'as', 'tokenization', ',', 'part-of-speech', 'tagging', ',', 'named', 'entity', 'recognition', ',', 'and', 'more', '.']\n"
          ]
        },
        {
          "output_type": "stream",
          "name": "stderr",
          "text": [
            "[nltk_data] Downloading package punkt_tab to /root/nltk_data...\n",
            "[nltk_data]   Unzipping tokenizers/punkt_tab.zip.\n"
          ]
        }
      ],
      "source": [
        "import nltk\n",
        "\n",
        "nltk.download('punkt_tab')\n",
        "\n",
        "# Sample paragraph\n",
        "text = \"\"\"\n",
        "Natural Language Processing (NLP) is a fascinating field of Artificial Intelligence. It focuses on enabling machines to understand and process human languages.\n",
        "This involves tasks such as tokenization, part-of-speech tagging, named entity recognition, and more.\n",
        "\"\"\"\n",
        "\n",
        "# Tokenize the text into sentences\n",
        "sentences = sent_tokenize(text)\n",
        "\n",
        "# Tokenize the text into words\n",
        "words = word_tokenize(text)\n",
        "\n",
        "# Display the results\n",
        "print(\"Sentences:\")\n",
        "print(sentences)\n",
        "\n",
        "print(\"\\nWords:\")\n",
        "print(words)\n"
      ]
    },
    {
      "cell_type": "code",
      "source": [],
      "metadata": {
        "id": "SsyG03wh4c20"
      },
      "execution_count": null,
      "outputs": []
    }
  ]
}