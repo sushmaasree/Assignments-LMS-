{
  "nbformat": 4,
  "nbformat_minor": 0,
  "metadata": {
    "colab": {
      "provenance": [],
      "authorship_tag": "ABX9TyMKUwdeRt6IQoiXTdFAlTtX",
      "include_colab_link": true
    },
    "kernelspec": {
      "name": "python3",
      "display_name": "Python 3"
    },
    "language_info": {
      "name": "python"
    }
  },
  "cells": [
    {
      "cell_type": "markdown",
      "metadata": {
        "id": "view-in-github",
        "colab_type": "text"
      },
      "source": [
        "<a href=\"https://colab.research.google.com/github/sushmaasree/Assignments-LMS-/blob/main/Day32.ipynb\" target=\"_parent\"><img src=\"https://colab.research.google.com/assets/colab-badge.svg\" alt=\"Open In Colab\"/></a>"
      ]
    },
    {
      "cell_type": "code",
      "execution_count": 4,
      "metadata": {
        "colab": {
          "base_uri": "https://localhost:8080/"
        },
        "id": "WuETyJFAA7xP",
        "outputId": "3fda8580-8d97-4f82-dfcd-bf69f7be0f1a"
      },
      "outputs": [
        {
          "output_type": "stream",
          "name": "stdout",
          "text": [
            "Top 5 most frequent tokens:\n",
            "words: 0.1000\n",
            "this: 0.0500\n",
            "is: 0.0500\n",
            "a: 0.0500\n",
            "sample: 0.0500\n"
          ]
        }
      ],
      "source": [
        "import re\n",
        "from collections import Counter\n",
        "\n",
        "# Sample text (embedded within the script)\n",
        "sample_text = \"\"\"This is a sample text document.\n",
        "It contains some words, and we will calculate\n",
        "the term frequency of these words.\"\"\"\n",
        "\n",
        "# Function to tokenize the text into words\n",
        "def tokenize(text):\n",
        "    # Remove non-alphabetic characters and split by whitespace\n",
        "    tokens = re.findall(r'\\b\\w+\\b', text.lower())\n",
        "    return tokens\n",
        "\n",
        "# Function to calculate term frequency (TF) of tokens\n",
        "def calculate_tf(tokens):\n",
        "    token_counts = Counter(tokens)\n",
        "    total_tokens = len(tokens)\n",
        "    tf = {token: count / total_tokens for token, count in token_counts.items()}\n",
        "    return tf\n",
        "\n",
        "# Function to display the top N most frequent tokens\n",
        "def display_top_tokens(tf, top_n=5):\n",
        "    # Sort by frequency and display the top N tokens\n",
        "    sorted_tokens = sorted(tf.items(), key=lambda x: x[1], reverse=True)\n",
        "    print(f\"Top {top_n} most frequent tokens:\")\n",
        "    for i in range(top_n):\n",
        "        token, frequency = sorted_tokens[i]\n",
        "        print(f\"{token}: {frequency:.4f}\")\n",
        "\n",
        "def main():\n",
        "    # Use the embedded sample text\n",
        "    tokens = tokenize(sample_text)\n",
        "    tf = calculate_tf(tokens)\n",
        "    display_top_tokens(tf)\n",
        "\n",
        "# Example usage\n",
        "main()"
      ]
    },
    {
      "cell_type": "code",
      "source": [],
      "metadata": {
        "id": "ROyR7Mv5A-A-"
      },
      "execution_count": null,
      "outputs": []
    }
  ]
}