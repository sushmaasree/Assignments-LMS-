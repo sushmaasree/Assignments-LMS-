{
  "nbformat": 4,
  "nbformat_minor": 0,
  "metadata": {
    "colab": {
      "provenance": [],
      "authorship_tag": "ABX9TyOPYLkEglK40+EEWBca5SRu",
      "include_colab_link": true
    },
    "kernelspec": {
      "name": "python3",
      "display_name": "Python 3"
    },
    "language_info": {
      "name": "python"
    }
  },
  "cells": [
    {
      "cell_type": "markdown",
      "metadata": {
        "id": "view-in-github",
        "colab_type": "text"
      },
      "source": [
        "<a href=\"https://colab.research.google.com/github/sushmaasree/Assignments-LMS-/blob/main/Day15.ipynb\" target=\"_parent\"><img src=\"https://colab.research.google.com/assets/colab-badge.svg\" alt=\"Open In Colab\"/></a>"
      ]
    },
    {
      "cell_type": "code",
      "execution_count": 1,
      "metadata": {
        "id": "nPOWV6i-fxlu",
        "colab": {
          "base_uri": "https://localhost:8080/"
        },
        "outputId": "5a397506-aab4-4606-b75e-f7df7f548f31"
      },
      "outputs": [
        {
          "output_type": "stream",
          "name": "stdout",
          "text": [
            "Extracted emails: ['support@example.com', 'sales@example.org']\n"
          ]
        }
      ],
      "source": [
        "import re\n",
        "\n",
        "def extract_emails(text: str) -> list:\n",
        "    \"\"\"\n",
        "    Extract all email addresses from a given string.\n",
        "\n",
        "    Parameters:\n",
        "    text (str): The input string containing email addresses.\n",
        "\n",
        "    Returns:\n",
        "    list: A list of extracted email addresses.\n",
        "    \"\"\"\n",
        "    # Regex pattern for matching email addresses\n",
        "    email_pattern = r'[a-zA-Z0-9._%+-]+@[a-zA-Z0-9.-]+\\.[a-zA-Z]{2,}'\n",
        "    return re.findall(email_pattern, text)\n",
        "\n",
        "# Test the function\n",
        "test_input = \"Contact us at support@example.com and sales@example.org.\"\n",
        "result = extract_emails(test_input)\n",
        "print(\"Extracted emails:\", result)\n"
      ]
    },
    {
      "cell_type": "code",
      "source": [],
      "metadata": {
        "id": "fodnKQZh9Itr"
      },
      "execution_count": null,
      "outputs": []
    }
  ]
}