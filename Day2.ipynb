{
  "nbformat": 4,
  "nbformat_minor": 0,
  "metadata": {
    "colab": {
      "provenance": [],
      "authorship_tag": "ABX9TyMWWcyKdAFZxwK2XOM4TOf4",
      "include_colab_link": true
    },
    "kernelspec": {
      "name": "python3",
      "display_name": "Python 3"
    },
    "language_info": {
      "name": "python"
    }
  },
  "cells": [
    {
      "cell_type": "markdown",
      "metadata": {
        "id": "view-in-github",
        "colab_type": "text"
      },
      "source": [
        "<a href=\"https://colab.research.google.com/github/sushmaasree/Assignments-LMS-/blob/main/Day2.ipynb\" target=\"_parent\"><img src=\"https://colab.research.google.com/assets/colab-badge.svg\" alt=\"Open In Colab\"/></a>"
      ]
    },
    {
      "cell_type": "code",
      "execution_count": null,
      "metadata": {
        "colab": {
          "base_uri": "https://localhost:8080/"
        },
        "id": "MwexoxuqmmPH",
        "outputId": "81670eb7-c619-4736-c60e-30301c77d24c"
      },
      "outputs": [
        {
          "output_type": "stream",
          "name": "stdout",
          "text": [
            "List Example:\n",
            "First element of list: 10\n",
            "Last element of list: 50\n",
            "Slice of list: [20, 30, 40]\n",
            "\n",
            "Tuple Example:\n",
            "First element of tuple: apple\n",
            "Last element of tuple: elderberry\n",
            "Slice of tuple: ('banana', 'cherry', 'date')\n",
            "\n",
            "Dictionary Example:\n",
            "Value for key 'a': 1\n",
            "Value for key 'd': 4\n"
          ]
        }
      ],
      "source": [
        "# Create a List, Tuple, and Dictionary\n",
        "my_list = [10, 20, 30, 40, 50]          # List\n",
        "my_tuple = (\"apple\", \"banana\", \"cherry\", \"date\", \"elderberry\")  # Tuple\n",
        "my_dict = {\"a\": 1, \"b\": 2, \"c\": 3, \"d\": 4, \"e\": 5}  # Dictionary\n",
        "\n",
        "# Accessing elements from List\n",
        "print(\"List Example:\")\n",
        "print(\"First element of list:\", my_list[0])\n",
        "print(\"Last element of list:\", my_list[-1])\n",
        "print(\"Slice of list:\", my_list[1:4])\n",
        "\n",
        "# Accessing elements from Tuple\n",
        "print(\"\\nTuple Example:\")\n",
        "print(\"First element of tuple:\", my_tuple[0])\n",
        "print(\"Last element of tuple:\", my_tuple[-1])\n",
        "print(\"Slice of tuple:\", my_tuple[1:4])\n",
        "\n",
        "# Accessing elements from Dictionary\n",
        "print(\"\\nDictionary Example:\")\n",
        "print(\"Value for key 'a':\", my_dict[\"a\"])\n",
        "print(\"Value for key 'd':\", my_dict[\"d\"])\n"
      ]
    }
  ]
}